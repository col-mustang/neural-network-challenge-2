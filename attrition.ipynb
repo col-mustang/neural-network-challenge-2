{
  "cells": [
    {
      "cell_type": "markdown",
      "metadata": {
        "id": "alIIEHibGc3M"
      },
      "source": [
        "## Part 1: Preprocessing"
      ]
    },
    {
      "cell_type": "code",
      "execution_count": 1,
      "metadata": {
        "colab": {
          "base_uri": "https://localhost:8080/",
          "height": 325
        },
        "id": "6eDUJ4NtGc3P",
        "outputId": "86895a8a-fc2f-41ab-9f20-4a39c65ecbd1"
      },
      "outputs": [
        {
          "output_type": "execute_result",
          "data": {
            "text/plain": [
              "   Age Attrition     BusinessTravel              Department  DistanceFromHome  \\\n",
              "0   41       Yes      Travel_Rarely                   Sales                 1   \n",
              "1   49        No  Travel_Frequently  Research & Development                 8   \n",
              "2   37       Yes      Travel_Rarely  Research & Development                 2   \n",
              "3   33        No  Travel_Frequently  Research & Development                 3   \n",
              "4   27        No      Travel_Rarely  Research & Development                 2   \n",
              "\n",
              "   Education EducationField  EnvironmentSatisfaction  HourlyRate  \\\n",
              "0          2  Life Sciences                        2          94   \n",
              "1          1  Life Sciences                        3          61   \n",
              "2          2          Other                        4          92   \n",
              "3          4  Life Sciences                        4          56   \n",
              "4          1        Medical                        1          40   \n",
              "\n",
              "   JobInvolvement  ...  PerformanceRating RelationshipSatisfaction  \\\n",
              "0               3  ...                  3                        1   \n",
              "1               2  ...                  4                        4   \n",
              "2               2  ...                  3                        2   \n",
              "3               3  ...                  3                        3   \n",
              "4               3  ...                  3                        4   \n",
              "\n",
              "   StockOptionLevel TotalWorkingYears  TrainingTimesLastYear WorkLifeBalance  \\\n",
              "0                 0                 8                      0               1   \n",
              "1                 1                10                      3               3   \n",
              "2                 0                 7                      3               3   \n",
              "3                 0                 8                      3               3   \n",
              "4                 1                 6                      3               3   \n",
              "\n",
              "   YearsAtCompany  YearsInCurrentRole  YearsSinceLastPromotion  \\\n",
              "0               6                   4                        0   \n",
              "1              10                   7                        1   \n",
              "2               0                   0                        0   \n",
              "3               8                   7                        3   \n",
              "4               2                   2                        2   \n",
              "\n",
              "   YearsWithCurrManager  \n",
              "0                     5  \n",
              "1                     7  \n",
              "2                     0  \n",
              "3                     0  \n",
              "4                     2  \n",
              "\n",
              "[5 rows x 27 columns]"
            ],
            "text/html": [
              "\n",
              "  <div id=\"df-6d6ed6d1-9302-4247-a2e9-c4858cdc9237\" class=\"colab-df-container\">\n",
              "    <div>\n",
              "<style scoped>\n",
              "    .dataframe tbody tr th:only-of-type {\n",
              "        vertical-align: middle;\n",
              "    }\n",
              "\n",
              "    .dataframe tbody tr th {\n",
              "        vertical-align: top;\n",
              "    }\n",
              "\n",
              "    .dataframe thead th {\n",
              "        text-align: right;\n",
              "    }\n",
              "</style>\n",
              "<table border=\"1\" class=\"dataframe\">\n",
              "  <thead>\n",
              "    <tr style=\"text-align: right;\">\n",
              "      <th></th>\n",
              "      <th>Age</th>\n",
              "      <th>Attrition</th>\n",
              "      <th>BusinessTravel</th>\n",
              "      <th>Department</th>\n",
              "      <th>DistanceFromHome</th>\n",
              "      <th>Education</th>\n",
              "      <th>EducationField</th>\n",
              "      <th>EnvironmentSatisfaction</th>\n",
              "      <th>HourlyRate</th>\n",
              "      <th>JobInvolvement</th>\n",
              "      <th>...</th>\n",
              "      <th>PerformanceRating</th>\n",
              "      <th>RelationshipSatisfaction</th>\n",
              "      <th>StockOptionLevel</th>\n",
              "      <th>TotalWorkingYears</th>\n",
              "      <th>TrainingTimesLastYear</th>\n",
              "      <th>WorkLifeBalance</th>\n",
              "      <th>YearsAtCompany</th>\n",
              "      <th>YearsInCurrentRole</th>\n",
              "      <th>YearsSinceLastPromotion</th>\n",
              "      <th>YearsWithCurrManager</th>\n",
              "    </tr>\n",
              "  </thead>\n",
              "  <tbody>\n",
              "    <tr>\n",
              "      <th>0</th>\n",
              "      <td>41</td>\n",
              "      <td>Yes</td>\n",
              "      <td>Travel_Rarely</td>\n",
              "      <td>Sales</td>\n",
              "      <td>1</td>\n",
              "      <td>2</td>\n",
              "      <td>Life Sciences</td>\n",
              "      <td>2</td>\n",
              "      <td>94</td>\n",
              "      <td>3</td>\n",
              "      <td>...</td>\n",
              "      <td>3</td>\n",
              "      <td>1</td>\n",
              "      <td>0</td>\n",
              "      <td>8</td>\n",
              "      <td>0</td>\n",
              "      <td>1</td>\n",
              "      <td>6</td>\n",
              "      <td>4</td>\n",
              "      <td>0</td>\n",
              "      <td>5</td>\n",
              "    </tr>\n",
              "    <tr>\n",
              "      <th>1</th>\n",
              "      <td>49</td>\n",
              "      <td>No</td>\n",
              "      <td>Travel_Frequently</td>\n",
              "      <td>Research &amp; Development</td>\n",
              "      <td>8</td>\n",
              "      <td>1</td>\n",
              "      <td>Life Sciences</td>\n",
              "      <td>3</td>\n",
              "      <td>61</td>\n",
              "      <td>2</td>\n",
              "      <td>...</td>\n",
              "      <td>4</td>\n",
              "      <td>4</td>\n",
              "      <td>1</td>\n",
              "      <td>10</td>\n",
              "      <td>3</td>\n",
              "      <td>3</td>\n",
              "      <td>10</td>\n",
              "      <td>7</td>\n",
              "      <td>1</td>\n",
              "      <td>7</td>\n",
              "    </tr>\n",
              "    <tr>\n",
              "      <th>2</th>\n",
              "      <td>37</td>\n",
              "      <td>Yes</td>\n",
              "      <td>Travel_Rarely</td>\n",
              "      <td>Research &amp; Development</td>\n",
              "      <td>2</td>\n",
              "      <td>2</td>\n",
              "      <td>Other</td>\n",
              "      <td>4</td>\n",
              "      <td>92</td>\n",
              "      <td>2</td>\n",
              "      <td>...</td>\n",
              "      <td>3</td>\n",
              "      <td>2</td>\n",
              "      <td>0</td>\n",
              "      <td>7</td>\n",
              "      <td>3</td>\n",
              "      <td>3</td>\n",
              "      <td>0</td>\n",
              "      <td>0</td>\n",
              "      <td>0</td>\n",
              "      <td>0</td>\n",
              "    </tr>\n",
              "    <tr>\n",
              "      <th>3</th>\n",
              "      <td>33</td>\n",
              "      <td>No</td>\n",
              "      <td>Travel_Frequently</td>\n",
              "      <td>Research &amp; Development</td>\n",
              "      <td>3</td>\n",
              "      <td>4</td>\n",
              "      <td>Life Sciences</td>\n",
              "      <td>4</td>\n",
              "      <td>56</td>\n",
              "      <td>3</td>\n",
              "      <td>...</td>\n",
              "      <td>3</td>\n",
              "      <td>3</td>\n",
              "      <td>0</td>\n",
              "      <td>8</td>\n",
              "      <td>3</td>\n",
              "      <td>3</td>\n",
              "      <td>8</td>\n",
              "      <td>7</td>\n",
              "      <td>3</td>\n",
              "      <td>0</td>\n",
              "    </tr>\n",
              "    <tr>\n",
              "      <th>4</th>\n",
              "      <td>27</td>\n",
              "      <td>No</td>\n",
              "      <td>Travel_Rarely</td>\n",
              "      <td>Research &amp; Development</td>\n",
              "      <td>2</td>\n",
              "      <td>1</td>\n",
              "      <td>Medical</td>\n",
              "      <td>1</td>\n",
              "      <td>40</td>\n",
              "      <td>3</td>\n",
              "      <td>...</td>\n",
              "      <td>3</td>\n",
              "      <td>4</td>\n",
              "      <td>1</td>\n",
              "      <td>6</td>\n",
              "      <td>3</td>\n",
              "      <td>3</td>\n",
              "      <td>2</td>\n",
              "      <td>2</td>\n",
              "      <td>2</td>\n",
              "      <td>2</td>\n",
              "    </tr>\n",
              "  </tbody>\n",
              "</table>\n",
              "<p>5 rows × 27 columns</p>\n",
              "</div>\n",
              "    <div class=\"colab-df-buttons\">\n",
              "\n",
              "  <div class=\"colab-df-container\">\n",
              "    <button class=\"colab-df-convert\" onclick=\"convertToInteractive('df-6d6ed6d1-9302-4247-a2e9-c4858cdc9237')\"\n",
              "            title=\"Convert this dataframe to an interactive table.\"\n",
              "            style=\"display:none;\">\n",
              "\n",
              "  <svg xmlns=\"http://www.w3.org/2000/svg\" height=\"24px\" viewBox=\"0 -960 960 960\">\n",
              "    <path d=\"M120-120v-720h720v720H120Zm60-500h600v-160H180v160Zm220 220h160v-160H400v160Zm0 220h160v-160H400v160ZM180-400h160v-160H180v160Zm440 0h160v-160H620v160ZM180-180h160v-160H180v160Zm440 0h160v-160H620v160Z\"/>\n",
              "  </svg>\n",
              "    </button>\n",
              "\n",
              "  <style>\n",
              "    .colab-df-container {\n",
              "      display:flex;\n",
              "      gap: 12px;\n",
              "    }\n",
              "\n",
              "    .colab-df-convert {\n",
              "      background-color: #E8F0FE;\n",
              "      border: none;\n",
              "      border-radius: 50%;\n",
              "      cursor: pointer;\n",
              "      display: none;\n",
              "      fill: #1967D2;\n",
              "      height: 32px;\n",
              "      padding: 0 0 0 0;\n",
              "      width: 32px;\n",
              "    }\n",
              "\n",
              "    .colab-df-convert:hover {\n",
              "      background-color: #E2EBFA;\n",
              "      box-shadow: 0px 1px 2px rgba(60, 64, 67, 0.3), 0px 1px 3px 1px rgba(60, 64, 67, 0.15);\n",
              "      fill: #174EA6;\n",
              "    }\n",
              "\n",
              "    .colab-df-buttons div {\n",
              "      margin-bottom: 4px;\n",
              "    }\n",
              "\n",
              "    [theme=dark] .colab-df-convert {\n",
              "      background-color: #3B4455;\n",
              "      fill: #D2E3FC;\n",
              "    }\n",
              "\n",
              "    [theme=dark] .colab-df-convert:hover {\n",
              "      background-color: #434B5C;\n",
              "      box-shadow: 0px 1px 3px 1px rgba(0, 0, 0, 0.15);\n",
              "      filter: drop-shadow(0px 1px 2px rgba(0, 0, 0, 0.3));\n",
              "      fill: #FFFFFF;\n",
              "    }\n",
              "  </style>\n",
              "\n",
              "    <script>\n",
              "      const buttonEl =\n",
              "        document.querySelector('#df-6d6ed6d1-9302-4247-a2e9-c4858cdc9237 button.colab-df-convert');\n",
              "      buttonEl.style.display =\n",
              "        google.colab.kernel.accessAllowed ? 'block' : 'none';\n",
              "\n",
              "      async function convertToInteractive(key) {\n",
              "        const element = document.querySelector('#df-6d6ed6d1-9302-4247-a2e9-c4858cdc9237');\n",
              "        const dataTable =\n",
              "          await google.colab.kernel.invokeFunction('convertToInteractive',\n",
              "                                                    [key], {});\n",
              "        if (!dataTable) return;\n",
              "\n",
              "        const docLinkHtml = 'Like what you see? Visit the ' +\n",
              "          '<a target=\"_blank\" href=https://colab.research.google.com/notebooks/data_table.ipynb>data table notebook</a>'\n",
              "          + ' to learn more about interactive tables.';\n",
              "        element.innerHTML = '';\n",
              "        dataTable['output_type'] = 'display_data';\n",
              "        await google.colab.output.renderOutput(dataTable, element);\n",
              "        const docLink = document.createElement('div');\n",
              "        docLink.innerHTML = docLinkHtml;\n",
              "        element.appendChild(docLink);\n",
              "      }\n",
              "    </script>\n",
              "  </div>\n",
              "\n",
              "\n",
              "<div id=\"df-c0aa764b-1c4c-4001-b44a-f07c875d6da0\">\n",
              "  <button class=\"colab-df-quickchart\" onclick=\"quickchart('df-c0aa764b-1c4c-4001-b44a-f07c875d6da0')\"\n",
              "            title=\"Suggest charts\"\n",
              "            style=\"display:none;\">\n",
              "\n",
              "<svg xmlns=\"http://www.w3.org/2000/svg\" height=\"24px\"viewBox=\"0 0 24 24\"\n",
              "     width=\"24px\">\n",
              "    <g>\n",
              "        <path d=\"M19 3H5c-1.1 0-2 .9-2 2v14c0 1.1.9 2 2 2h14c1.1 0 2-.9 2-2V5c0-1.1-.9-2-2-2zM9 17H7v-7h2v7zm4 0h-2V7h2v10zm4 0h-2v-4h2v4z\"/>\n",
              "    </g>\n",
              "</svg>\n",
              "  </button>\n",
              "\n",
              "<style>\n",
              "  .colab-df-quickchart {\n",
              "      --bg-color: #E8F0FE;\n",
              "      --fill-color: #1967D2;\n",
              "      --hover-bg-color: #E2EBFA;\n",
              "      --hover-fill-color: #174EA6;\n",
              "      --disabled-fill-color: #AAA;\n",
              "      --disabled-bg-color: #DDD;\n",
              "  }\n",
              "\n",
              "  [theme=dark] .colab-df-quickchart {\n",
              "      --bg-color: #3B4455;\n",
              "      --fill-color: #D2E3FC;\n",
              "      --hover-bg-color: #434B5C;\n",
              "      --hover-fill-color: #FFFFFF;\n",
              "      --disabled-bg-color: #3B4455;\n",
              "      --disabled-fill-color: #666;\n",
              "  }\n",
              "\n",
              "  .colab-df-quickchart {\n",
              "    background-color: var(--bg-color);\n",
              "    border: none;\n",
              "    border-radius: 50%;\n",
              "    cursor: pointer;\n",
              "    display: none;\n",
              "    fill: var(--fill-color);\n",
              "    height: 32px;\n",
              "    padding: 0;\n",
              "    width: 32px;\n",
              "  }\n",
              "\n",
              "  .colab-df-quickchart:hover {\n",
              "    background-color: var(--hover-bg-color);\n",
              "    box-shadow: 0 1px 2px rgba(60, 64, 67, 0.3), 0 1px 3px 1px rgba(60, 64, 67, 0.15);\n",
              "    fill: var(--button-hover-fill-color);\n",
              "  }\n",
              "\n",
              "  .colab-df-quickchart-complete:disabled,\n",
              "  .colab-df-quickchart-complete:disabled:hover {\n",
              "    background-color: var(--disabled-bg-color);\n",
              "    fill: var(--disabled-fill-color);\n",
              "    box-shadow: none;\n",
              "  }\n",
              "\n",
              "  .colab-df-spinner {\n",
              "    border: 2px solid var(--fill-color);\n",
              "    border-color: transparent;\n",
              "    border-bottom-color: var(--fill-color);\n",
              "    animation:\n",
              "      spin 1s steps(1) infinite;\n",
              "  }\n",
              "\n",
              "  @keyframes spin {\n",
              "    0% {\n",
              "      border-color: transparent;\n",
              "      border-bottom-color: var(--fill-color);\n",
              "      border-left-color: var(--fill-color);\n",
              "    }\n",
              "    20% {\n",
              "      border-color: transparent;\n",
              "      border-left-color: var(--fill-color);\n",
              "      border-top-color: var(--fill-color);\n",
              "    }\n",
              "    30% {\n",
              "      border-color: transparent;\n",
              "      border-left-color: var(--fill-color);\n",
              "      border-top-color: var(--fill-color);\n",
              "      border-right-color: var(--fill-color);\n",
              "    }\n",
              "    40% {\n",
              "      border-color: transparent;\n",
              "      border-right-color: var(--fill-color);\n",
              "      border-top-color: var(--fill-color);\n",
              "    }\n",
              "    60% {\n",
              "      border-color: transparent;\n",
              "      border-right-color: var(--fill-color);\n",
              "    }\n",
              "    80% {\n",
              "      border-color: transparent;\n",
              "      border-right-color: var(--fill-color);\n",
              "      border-bottom-color: var(--fill-color);\n",
              "    }\n",
              "    90% {\n",
              "      border-color: transparent;\n",
              "      border-bottom-color: var(--fill-color);\n",
              "    }\n",
              "  }\n",
              "</style>\n",
              "\n",
              "  <script>\n",
              "    async function quickchart(key) {\n",
              "      const quickchartButtonEl =\n",
              "        document.querySelector('#' + key + ' button');\n",
              "      quickchartButtonEl.disabled = true;  // To prevent multiple clicks.\n",
              "      quickchartButtonEl.classList.add('colab-df-spinner');\n",
              "      try {\n",
              "        const charts = await google.colab.kernel.invokeFunction(\n",
              "            'suggestCharts', [key], {});\n",
              "      } catch (error) {\n",
              "        console.error('Error during call to suggestCharts:', error);\n",
              "      }\n",
              "      quickchartButtonEl.classList.remove('colab-df-spinner');\n",
              "      quickchartButtonEl.classList.add('colab-df-quickchart-complete');\n",
              "    }\n",
              "    (() => {\n",
              "      let quickchartButtonEl =\n",
              "        document.querySelector('#df-c0aa764b-1c4c-4001-b44a-f07c875d6da0 button');\n",
              "      quickchartButtonEl.style.display =\n",
              "        google.colab.kernel.accessAllowed ? 'block' : 'none';\n",
              "    })();\n",
              "  </script>\n",
              "</div>\n",
              "\n",
              "    </div>\n",
              "  </div>\n"
            ],
            "application/vnd.google.colaboratory.intrinsic+json": {
              "type": "dataframe",
              "variable_name": "attrition_df"
            }
          },
          "metadata": {},
          "execution_count": 1
        }
      ],
      "source": [
        "# Import our dependencies\n",
        "from sklearn.model_selection import train_test_split\n",
        "from sklearn.preprocessing import StandardScaler\n",
        "import pandas as pd\n",
        "import numpy as np\n",
        "from tensorflow.keras.models import Model\n",
        "from tensorflow.keras import layers\n",
        "\n",
        "#  Import and read the attrition data\n",
        "attrition_df = pd.read_csv('https://static.bc-edx.com/ai/ail-v-1-0/m19/lms/datasets/attrition.csv')\n",
        "attrition_df.head()"
      ]
    },
    {
      "cell_type": "code",
      "execution_count": 2,
      "metadata": {
        "colab": {
          "base_uri": "https://localhost:8080/"
        },
        "id": "g22aQSY4Gc3Q",
        "outputId": "0c8563c8-7478-4893-ece5-adc99b92f02f"
      },
      "outputs": [
        {
          "output_type": "execute_result",
          "data": {
            "text/plain": [
              "Age                         43\n",
              "Attrition                    2\n",
              "BusinessTravel               3\n",
              "Department                   3\n",
              "DistanceFromHome            29\n",
              "Education                    5\n",
              "EducationField               6\n",
              "EnvironmentSatisfaction      4\n",
              "HourlyRate                  71\n",
              "JobInvolvement               4\n",
              "JobLevel                     5\n",
              "JobRole                      9\n",
              "JobSatisfaction              4\n",
              "MaritalStatus                3\n",
              "NumCompaniesWorked          10\n",
              "OverTime                     2\n",
              "PercentSalaryHike           15\n",
              "PerformanceRating            2\n",
              "RelationshipSatisfaction     4\n",
              "StockOptionLevel             4\n",
              "TotalWorkingYears           40\n",
              "TrainingTimesLastYear        7\n",
              "WorkLifeBalance              4\n",
              "YearsAtCompany              37\n",
              "YearsInCurrentRole          19\n",
              "YearsSinceLastPromotion     16\n",
              "YearsWithCurrManager        18\n",
              "dtype: int64"
            ]
          },
          "metadata": {},
          "execution_count": 2
        }
      ],
      "source": [
        "# Determine the number of unique values in each column.\n",
        "attrition_df.nunique()"
      ]
    },
    {
      "cell_type": "code",
      "execution_count": 5,
      "metadata": {
        "id": "50vMgBEnJbfM"
      },
      "outputs": [],
      "source": [
        "# Create y_df with the Attrition and Department columns\n",
        "y_df = attrition_df[[\"Attrition\", \"Department\"]]\n"
      ]
    },
    {
      "cell_type": "code",
      "execution_count": 7,
      "metadata": {
        "colab": {
          "base_uri": "https://localhost:8080/"
        },
        "id": "Virka0zLGc3R",
        "outputId": "24b45c27-8331-41dc-9e3f-3e7a857f4120"
      },
      "outputs": [
        {
          "output_type": "execute_result",
          "data": {
            "text/plain": [
              "Education                   int64\n",
              "Age                         int64\n",
              "DistanceFromHome            int64\n",
              "JobSatisfaction             int64\n",
              "OverTime                   object\n",
              "StockOptionLevel            int64\n",
              "WorkLifeBalance             int64\n",
              "YearsAtCompany              int64\n",
              "YearsSinceLastPromotion     int64\n",
              "NumCompaniesWorked          int64\n",
              "dtype: object"
            ]
          },
          "metadata": {},
          "execution_count": 7
        }
      ],
      "source": [
        "# Create a list of at least 10 column names to use as X data\n",
        "column_list = [\"Education\", \"Age\", \"DistanceFromHome\", \"JobSatisfaction\", \"OverTime\", \"StockOptionLevel\", \"WorkLifeBalance\", \"YearsAtCompany\", \"YearsSinceLastPromotion\", \"NumCompaniesWorked\"]\n",
        "\n",
        "# Create X_df using your selected columns\n",
        "X_df = attrition_df[column_list]\n",
        "\n",
        "# Show the data types for X_df\n",
        "X_df.dtypes"
      ]
    },
    {
      "cell_type": "code",
      "execution_count": 8,
      "metadata": {
        "id": "KaJfdOGUMHMR"
      },
      "outputs": [],
      "source": [
        "# Split the data into training and testing sets\n",
        "from sklearn.model_selection import train_test_split\n",
        "X_train, X_test, y_train, y_test = train_test_split(X_df, y_df, random_state=42)\n"
      ]
    },
    {
      "cell_type": "code",
      "execution_count": 10,
      "metadata": {
        "colab": {
          "base_uri": "https://localhost:8080/"
        },
        "id": "NYubUJqiLCSp",
        "outputId": "09f5194e-beb0-4729-cb3a-382936c29279"
      },
      "outputs": [
        {
          "output_type": "execute_result",
          "data": {
            "text/plain": [
              "OverTime\n",
              "No     780\n",
              "Yes    322\n",
              "Name: count, dtype: int64"
            ]
          },
          "metadata": {},
          "execution_count": 10
        }
      ],
      "source": [
        "# Convert your X data to numeric data types however you see fit\n",
        "# Add new code cells as necessary\n",
        "X_train[\"OverTime\"].value_counts()"
      ]
    },
    {
      "cell_type": "code",
      "source": [
        "# Convert the OverTime column to a binary column\n",
        "from sklearn.preprocessing import LabelEncoder\n",
        "\n",
        "# Create the encoder and fit it to the data\n",
        "overtime_encoder = LabelEncoder().fit(X_train[\"OverTime\"])\n",
        "\n",
        "# Transform train and test\n",
        "X_train[\"OverTime_Encoded\"] = overtime_encoder.transform(X_train[\"OverTime\"])\n",
        "X_test[\"OverTime_Encoded\"] = overtime_encoder.transform(X_test[\"OverTime\"])\n",
        "\n",
        "# Drop the original OverTime column from the X data\n",
        "X_train.drop(\"OverTime\", axis=1, inplace=True)\n",
        "X_test.drop(\"OverTime\", axis=1, inplace=True)"
      ],
      "metadata": {
        "id": "3GBWTAnOk0DX"
      },
      "execution_count": 12,
      "outputs": []
    },
    {
      "cell_type": "code",
      "execution_count": 13,
      "metadata": {
        "id": "EWA-aIA5Gc3T"
      },
      "outputs": [],
      "source": [
        "# Create a StandardScaler\n",
        "scaler = StandardScaler()\n",
        "\n",
        "# Fit the StandardScaler to the training data\n",
        "scaler.fit(X_train)\n",
        "\n",
        "# Scale the training and testing data\n",
        "X_train_scaled = scaler.transform(X_train)\n",
        "X_test_scaled = scaler.transform(X_test)"
      ]
    },
    {
      "cell_type": "code",
      "execution_count": 14,
      "metadata": {
        "colab": {
          "base_uri": "https://localhost:8080/"
        },
        "id": "-z0Mky8vQSz4",
        "outputId": "dda8f1ab-afce-4e4c-a4ca-992e19a5898d"
      },
      "outputs": [
        {
          "output_type": "execute_result",
          "data": {
            "text/plain": [
              "array([[0., 1., 0.],\n",
              "       [0., 0., 1.],\n",
              "       [0., 0., 1.],\n",
              "       ...,\n",
              "       [0., 1., 0.],\n",
              "       [0., 1., 0.],\n",
              "       [0., 0., 1.]])"
            ]
          },
          "metadata": {},
          "execution_count": 14
        }
      ],
      "source": [
        "# Create a OneHotEncoder for the Department column\n",
        "from sklearn.preprocessing import OneHotEncoder\n",
        "department_encoder = OneHotEncoder(sparse_output=False)\n",
        "\n",
        "# Fit the encoder to the training data\n",
        "department_encoder.fit(y_train[[\"Department\"]])\n",
        "\n",
        "# Create two new variables by applying the encoder\n",
        "# to the training and testing data\n",
        "department_train_encoded = department_encoder.transform(y_train[[\"Department\"]])\n",
        "department_test_encoded = department_encoder.transform(y_test[[\"Department\"]])\n",
        "\n",
        "department_train_encoded"
      ]
    },
    {
      "cell_type": "code",
      "execution_count": 15,
      "metadata": {
        "colab": {
          "base_uri": "https://localhost:8080/"
        },
        "id": "-G4DSpvFRrk4",
        "outputId": "48b5c048-4ee1-49ac-cfcd-77154182f785"
      },
      "outputs": [
        {
          "output_type": "execute_result",
          "data": {
            "text/plain": [
              "array([[1., 0.],\n",
              "       [1., 0.],\n",
              "       [1., 0.],\n",
              "       ...,\n",
              "       [0., 1.],\n",
              "       [1., 0.],\n",
              "       [1., 0.]])"
            ]
          },
          "metadata": {},
          "execution_count": 15
        }
      ],
      "source": [
        "# Create a OneHotEncoder for the Attrition column\n",
        "attrition_encoder = OneHotEncoder(sparse_output=False)\n",
        "\n",
        "# Fit the encoder to the training data\n",
        "attrition_encoder.fit(y_train[[\"Attrition\"]])\n",
        "\n",
        "# Create two new variables by applying the encoder\n",
        "# to the training and testing data\n",
        "attrition_train_encoded = attrition_encoder.transform(y_train[[\"Attrition\"]])\n",
        "attrition_test_encoded = attrition_encoder.transform(y_test[[\"Attrition\"]])\n",
        "\n",
        "attrition_train_encoded"
      ]
    },
    {
      "cell_type": "markdown",
      "metadata": {
        "id": "ykNmu_WWGc3T"
      },
      "source": [
        "## Create, Compile, and Train the Model"
      ]
    },
    {
      "cell_type": "code",
      "execution_count": 17,
      "metadata": {
        "id": "WUptZqmSGc3T"
      },
      "outputs": [],
      "source": [
        "# Find the number of columns in the X training data\n",
        "num_columns = X_train_scaled.shape[1]\n",
        "\n",
        "# Create the input layer\n",
        "input_layer = layers.Input(shape=(num_columns), name=\"input_layer\")\n",
        "\n",
        "# Create at least two shared layers\n",
        "shared_1 = layers.Dense(units=64, activation=\"relu\", name=\"shared_1\")(input_layer)\n",
        "shared_2 = layers.Dense(units=128, activation=\"relu\", name=\"shared_2\")(shared_1)"
      ]
    },
    {
      "cell_type": "code",
      "execution_count": 18,
      "metadata": {
        "id": "JukjTm2yTEqd"
      },
      "outputs": [],
      "source": [
        "# Create a branch for Department\n",
        "# with a hidden layer and an output layer\n",
        "\n",
        "# Create the hidden layer\n",
        "department_hidden = layers.Dense(units=32, activation=\"relu\", name=\"department_hidden\")(shared_2)\n",
        "\n",
        "# Create the output layer\n",
        "department_output = layers.Dense(units=3, activation=\"softmax\", name=\"department_output\")(department_hidden)"
      ]
    },
    {
      "cell_type": "code",
      "execution_count": 21,
      "metadata": {
        "id": "9OqhUiOJUBkR"
      },
      "outputs": [],
      "source": [
        "# Create a branch for Attrition\n",
        "# with a hidden layer and an output layer\n",
        "\n",
        "# Create the hidden layer\n",
        "attrition_hidden = layers.Dense(units=32, activation=\"relu\", name=\"attrition_hidden\")(shared_2)\n",
        "\n",
        "# Create the output layer\n",
        "attrition_output = layers.Dense(units=2, activation=\"softmax\", name=\"attrition_output\")(attrition_hidden)\n"
      ]
    },
    {
      "cell_type": "code",
      "execution_count": 22,
      "metadata": {
        "colab": {
          "base_uri": "https://localhost:8080/"
        },
        "id": "twmuejdxGc3T",
        "outputId": "ac659358-3496-44a7-d6ba-4f7926484c8b"
      },
      "outputs": [
        {
          "output_type": "stream",
          "name": "stdout",
          "text": [
            "Model: \"model\"\n",
            "__________________________________________________________________________________________________\n",
            " Layer (type)                Output Shape                 Param #   Connected to                  \n",
            "==================================================================================================\n",
            " input_layer (InputLayer)    [(None, 10)]                 0         []                            \n",
            "                                                                                                  \n",
            " shared_1 (Dense)            (None, 64)                   704       ['input_layer[0][0]']         \n",
            "                                                                                                  \n",
            " shared_2 (Dense)            (None, 128)                  8320      ['shared_1[0][0]']            \n",
            "                                                                                                  \n",
            " department_hidden (Dense)   (None, 32)                   4128      ['shared_2[0][0]']            \n",
            "                                                                                                  \n",
            " attrition_hidden (Dense)    (None, 32)                   4128      ['shared_2[0][0]']            \n",
            "                                                                                                  \n",
            " department_output (Dense)   (None, 3)                    99        ['department_hidden[0][0]']   \n",
            "                                                                                                  \n",
            " attrition_output (Dense)    (None, 2)                    66        ['attrition_hidden[0][0]']    \n",
            "                                                                                                  \n",
            "==================================================================================================\n",
            "Total params: 17445 (68.14 KB)\n",
            "Trainable params: 17445 (68.14 KB)\n",
            "Non-trainable params: 0 (0.00 Byte)\n",
            "__________________________________________________________________________________________________\n"
          ]
        }
      ],
      "source": [
        "# Create the model\n",
        "model = Model(inputs=input_layer, outputs=[department_output, attrition_output])\n",
        "\n",
        "# Compile the model\n",
        "model.compile(optimizer=\"adam\",\n",
        "              loss={\"department_output\": \"categorical_crossentropy\", \"attrition_output\": \"categorical_crossentropy\"},\n",
        "              metrics={\"department_output\": \"accuracy\", \"attrition_output\": \"accuracy\"})\n",
        "\n",
        "# Summarize the model\n",
        "model.summary()"
      ]
    },
    {
      "cell_type": "code",
      "execution_count": 23,
      "metadata": {
        "colab": {
          "base_uri": "https://localhost:8080/"
        },
        "id": "c8oGy0dpGc3U",
        "outputId": "fada37f7-31b0-42c8-82ba-39507a7b1ec2"
      },
      "outputs": [
        {
          "output_type": "stream",
          "name": "stdout",
          "text": [
            "Epoch 1/100\n",
            "35/35 - 4s - loss: 1.3413 - department_output_loss: 0.8611 - attrition_output_loss: 0.4801 - department_output_accuracy: 0.6370 - attrition_output_accuracy: 0.8158 - 4s/epoch - 118ms/step\n",
            "Epoch 2/100\n",
            "35/35 - 0s - loss: 1.1725 - department_output_loss: 0.7722 - attrition_output_loss: 0.4003 - department_output_accuracy: 0.6543 - attrition_output_accuracy: 0.8339 - 74ms/epoch - 2ms/step\n",
            "Epoch 3/100\n",
            "35/35 - 0s - loss: 1.1405 - department_output_loss: 0.7611 - attrition_output_loss: 0.3794 - department_output_accuracy: 0.6534 - attrition_output_accuracy: 0.8394 - 71ms/epoch - 2ms/step\n",
            "Epoch 4/100\n",
            "35/35 - 0s - loss: 1.1151 - department_output_loss: 0.7503 - attrition_output_loss: 0.3648 - department_output_accuracy: 0.6561 - attrition_output_accuracy: 0.8521 - 67ms/epoch - 2ms/step\n",
            "Epoch 5/100\n",
            "35/35 - 0s - loss: 1.0940 - department_output_loss: 0.7432 - attrition_output_loss: 0.3508 - department_output_accuracy: 0.6561 - attrition_output_accuracy: 0.8593 - 67ms/epoch - 2ms/step\n",
            "Epoch 6/100\n",
            "35/35 - 0s - loss: 1.0787 - department_output_loss: 0.7357 - attrition_output_loss: 0.3429 - department_output_accuracy: 0.6606 - attrition_output_accuracy: 0.8603 - 68ms/epoch - 2ms/step\n",
            "Epoch 7/100\n",
            "35/35 - 0s - loss: 1.0653 - department_output_loss: 0.7311 - attrition_output_loss: 0.3342 - department_output_accuracy: 0.6606 - attrition_output_accuracy: 0.8603 - 72ms/epoch - 2ms/step\n",
            "Epoch 8/100\n",
            "35/35 - 0s - loss: 1.0524 - department_output_loss: 0.7295 - attrition_output_loss: 0.3230 - department_output_accuracy: 0.6597 - attrition_output_accuracy: 0.8675 - 71ms/epoch - 2ms/step\n",
            "Epoch 9/100\n",
            "35/35 - 0s - loss: 1.0262 - department_output_loss: 0.7169 - attrition_output_loss: 0.3093 - department_output_accuracy: 0.6561 - attrition_output_accuracy: 0.8811 - 66ms/epoch - 2ms/step\n",
            "Epoch 10/100\n",
            "35/35 - 0s - loss: 1.0134 - department_output_loss: 0.7090 - attrition_output_loss: 0.3044 - department_output_accuracy: 0.6697 - attrition_output_accuracy: 0.8739 - 67ms/epoch - 2ms/step\n",
            "Epoch 11/100\n",
            "35/35 - 0s - loss: 0.9938 - department_output_loss: 0.7005 - attrition_output_loss: 0.2933 - department_output_accuracy: 0.6688 - attrition_output_accuracy: 0.8829 - 71ms/epoch - 2ms/step\n",
            "Epoch 12/100\n",
            "35/35 - 0s - loss: 0.9713 - department_output_loss: 0.6898 - attrition_output_loss: 0.2815 - department_output_accuracy: 0.6851 - attrition_output_accuracy: 0.8866 - 66ms/epoch - 2ms/step\n",
            "Epoch 13/100\n",
            "35/35 - 0s - loss: 0.9561 - department_output_loss: 0.6852 - attrition_output_loss: 0.2709 - department_output_accuracy: 0.6806 - attrition_output_accuracy: 0.8902 - 70ms/epoch - 2ms/step\n",
            "Epoch 14/100\n",
            "35/35 - 0s - loss: 0.9404 - department_output_loss: 0.6786 - attrition_output_loss: 0.2617 - department_output_accuracy: 0.6942 - attrition_output_accuracy: 0.8929 - 77ms/epoch - 2ms/step\n",
            "Epoch 15/100\n",
            "35/35 - 0s - loss: 0.9205 - department_output_loss: 0.6646 - attrition_output_loss: 0.2559 - department_output_accuracy: 0.7033 - attrition_output_accuracy: 0.8993 - 69ms/epoch - 2ms/step\n",
            "Epoch 16/100\n",
            "35/35 - 0s - loss: 0.9021 - department_output_loss: 0.6568 - attrition_output_loss: 0.2453 - department_output_accuracy: 0.6996 - attrition_output_accuracy: 0.9020 - 65ms/epoch - 2ms/step\n",
            "Epoch 17/100\n",
            "35/35 - 0s - loss: 0.8850 - department_output_loss: 0.6474 - attrition_output_loss: 0.2376 - department_output_accuracy: 0.6996 - attrition_output_accuracy: 0.8975 - 69ms/epoch - 2ms/step\n",
            "Epoch 18/100\n",
            "35/35 - 0s - loss: 0.8675 - department_output_loss: 0.6414 - attrition_output_loss: 0.2261 - department_output_accuracy: 0.7205 - attrition_output_accuracy: 0.9129 - 71ms/epoch - 2ms/step\n",
            "Epoch 19/100\n",
            "35/35 - 0s - loss: 0.8479 - department_output_loss: 0.6314 - attrition_output_loss: 0.2165 - department_output_accuracy: 0.7160 - attrition_output_accuracy: 0.9156 - 77ms/epoch - 2ms/step\n",
            "Epoch 20/100\n",
            "35/35 - 0s - loss: 0.8317 - department_output_loss: 0.6189 - attrition_output_loss: 0.2128 - department_output_accuracy: 0.7341 - attrition_output_accuracy: 0.9211 - 68ms/epoch - 2ms/step\n",
            "Epoch 21/100\n",
            "35/35 - 0s - loss: 0.8091 - department_output_loss: 0.6035 - attrition_output_loss: 0.2056 - department_output_accuracy: 0.7387 - attrition_output_accuracy: 0.9229 - 68ms/epoch - 2ms/step\n",
            "Epoch 22/100\n",
            "35/35 - 0s - loss: 0.7958 - department_output_loss: 0.6001 - attrition_output_loss: 0.1957 - department_output_accuracy: 0.7359 - attrition_output_accuracy: 0.9183 - 66ms/epoch - 2ms/step\n",
            "Epoch 23/100\n",
            "35/35 - 0s - loss: 0.7834 - department_output_loss: 0.5883 - attrition_output_loss: 0.1951 - department_output_accuracy: 0.7450 - attrition_output_accuracy: 0.9265 - 67ms/epoch - 2ms/step\n",
            "Epoch 24/100\n",
            "35/35 - 0s - loss: 0.7621 - department_output_loss: 0.5705 - attrition_output_loss: 0.1916 - department_output_accuracy: 0.7559 - attrition_output_accuracy: 0.9174 - 72ms/epoch - 2ms/step\n",
            "Epoch 25/100\n",
            "35/35 - 0s - loss: 0.7333 - department_output_loss: 0.5571 - attrition_output_loss: 0.1763 - department_output_accuracy: 0.7713 - attrition_output_accuracy: 0.9328 - 66ms/epoch - 2ms/step\n",
            "Epoch 26/100\n",
            "35/35 - 0s - loss: 0.7153 - department_output_loss: 0.5520 - attrition_output_loss: 0.1633 - department_output_accuracy: 0.7750 - attrition_output_accuracy: 0.9401 - 68ms/epoch - 2ms/step\n",
            "Epoch 27/100\n",
            "35/35 - 0s - loss: 0.6891 - department_output_loss: 0.5289 - attrition_output_loss: 0.1602 - department_output_accuracy: 0.7813 - attrition_output_accuracy: 0.9383 - 73ms/epoch - 2ms/step\n",
            "Epoch 28/100\n",
            "35/35 - 0s - loss: 0.6767 - department_output_loss: 0.5243 - attrition_output_loss: 0.1524 - department_output_accuracy: 0.7940 - attrition_output_accuracy: 0.9474 - 67ms/epoch - 2ms/step\n",
            "Epoch 29/100\n",
            "35/35 - 0s - loss: 0.6727 - department_output_loss: 0.5265 - attrition_output_loss: 0.1463 - department_output_accuracy: 0.7795 - attrition_output_accuracy: 0.9474 - 66ms/epoch - 2ms/step\n",
            "Epoch 30/100\n",
            "35/35 - 0s - loss: 0.6378 - department_output_loss: 0.4956 - attrition_output_loss: 0.1421 - department_output_accuracy: 0.8076 - attrition_output_accuracy: 0.9483 - 66ms/epoch - 2ms/step\n",
            "Epoch 31/100\n",
            "35/35 - 0s - loss: 0.6162 - department_output_loss: 0.4789 - attrition_output_loss: 0.1374 - department_output_accuracy: 0.8203 - attrition_output_accuracy: 0.9492 - 71ms/epoch - 2ms/step\n",
            "Epoch 32/100\n",
            "35/35 - 0s - loss: 0.5913 - department_output_loss: 0.4678 - attrition_output_loss: 0.1235 - department_output_accuracy: 0.8203 - attrition_output_accuracy: 0.9574 - 63ms/epoch - 2ms/step\n",
            "Epoch 33/100\n",
            "35/35 - 0s - loss: 0.5816 - department_output_loss: 0.4566 - attrition_output_loss: 0.1250 - department_output_accuracy: 0.8176 - attrition_output_accuracy: 0.9555 - 71ms/epoch - 2ms/step\n",
            "Epoch 34/100\n",
            "35/35 - 0s - loss: 0.5608 - department_output_loss: 0.4417 - attrition_output_loss: 0.1192 - department_output_accuracy: 0.8421 - attrition_output_accuracy: 0.9610 - 72ms/epoch - 2ms/step\n",
            "Epoch 35/100\n",
            "35/35 - 0s - loss: 0.5497 - department_output_loss: 0.4340 - attrition_output_loss: 0.1157 - department_output_accuracy: 0.8448 - attrition_output_accuracy: 0.9628 - 77ms/epoch - 2ms/step\n",
            "Epoch 36/100\n",
            "35/35 - 0s - loss: 0.5317 - department_output_loss: 0.4263 - attrition_output_loss: 0.1054 - department_output_accuracy: 0.8385 - attrition_output_accuracy: 0.9628 - 72ms/epoch - 2ms/step\n",
            "Epoch 37/100\n",
            "35/35 - 0s - loss: 0.5045 - department_output_loss: 0.4048 - attrition_output_loss: 0.0997 - department_output_accuracy: 0.8475 - attrition_output_accuracy: 0.9701 - 72ms/epoch - 2ms/step\n",
            "Epoch 38/100\n",
            "35/35 - 0s - loss: 0.4877 - department_output_loss: 0.3908 - attrition_output_loss: 0.0968 - department_output_accuracy: 0.8575 - attrition_output_accuracy: 0.9691 - 75ms/epoch - 2ms/step\n",
            "Epoch 39/100\n",
            "35/35 - 0s - loss: 0.4819 - department_output_loss: 0.3950 - attrition_output_loss: 0.0869 - department_output_accuracy: 0.8566 - attrition_output_accuracy: 0.9719 - 70ms/epoch - 2ms/step\n",
            "Epoch 40/100\n",
            "35/35 - 0s - loss: 0.4540 - department_output_loss: 0.3669 - attrition_output_loss: 0.0871 - department_output_accuracy: 0.8684 - attrition_output_accuracy: 0.9737 - 70ms/epoch - 2ms/step\n",
            "Epoch 41/100\n",
            "35/35 - 0s - loss: 0.4445 - department_output_loss: 0.3648 - attrition_output_loss: 0.0797 - department_output_accuracy: 0.8675 - attrition_output_accuracy: 0.9791 - 77ms/epoch - 2ms/step\n",
            "Epoch 42/100\n",
            "35/35 - 0s - loss: 0.4300 - department_output_loss: 0.3569 - attrition_output_loss: 0.0731 - department_output_accuracy: 0.8721 - attrition_output_accuracy: 0.9782 - 69ms/epoch - 2ms/step\n",
            "Epoch 43/100\n",
            "35/35 - 0s - loss: 0.4189 - department_output_loss: 0.3423 - attrition_output_loss: 0.0766 - department_output_accuracy: 0.8793 - attrition_output_accuracy: 0.9746 - 74ms/epoch - 2ms/step\n",
            "Epoch 44/100\n",
            "35/35 - 0s - loss: 0.4134 - department_output_loss: 0.3405 - attrition_output_loss: 0.0729 - department_output_accuracy: 0.8793 - attrition_output_accuracy: 0.9782 - 65ms/epoch - 2ms/step\n",
            "Epoch 45/100\n",
            "35/35 - 0s - loss: 0.3717 - department_output_loss: 0.3101 - attrition_output_loss: 0.0616 - department_output_accuracy: 0.9038 - attrition_output_accuracy: 0.9891 - 69ms/epoch - 2ms/step\n",
            "Epoch 46/100\n",
            "35/35 - 0s - loss: 0.3605 - department_output_loss: 0.2996 - attrition_output_loss: 0.0608 - department_output_accuracy: 0.9038 - attrition_output_accuracy: 0.9828 - 69ms/epoch - 2ms/step\n",
            "Epoch 47/100\n",
            "35/35 - 0s - loss: 0.3494 - department_output_loss: 0.2871 - attrition_output_loss: 0.0623 - department_output_accuracy: 0.9156 - attrition_output_accuracy: 0.9819 - 73ms/epoch - 2ms/step\n",
            "Epoch 48/100\n",
            "35/35 - 0s - loss: 0.3451 - department_output_loss: 0.2834 - attrition_output_loss: 0.0617 - department_output_accuracy: 0.9102 - attrition_output_accuracy: 0.9791 - 66ms/epoch - 2ms/step\n",
            "Epoch 49/100\n",
            "35/35 - 0s - loss: 0.3232 - department_output_loss: 0.2693 - attrition_output_loss: 0.0539 - department_output_accuracy: 0.9220 - attrition_output_accuracy: 0.9837 - 67ms/epoch - 2ms/step\n",
            "Epoch 50/100\n",
            "35/35 - 0s - loss: 0.3145 - department_output_loss: 0.2635 - attrition_output_loss: 0.0510 - department_output_accuracy: 0.9165 - attrition_output_accuracy: 0.9864 - 71ms/epoch - 2ms/step\n",
            "Epoch 51/100\n",
            "35/35 - 0s - loss: 0.2982 - department_output_loss: 0.2485 - attrition_output_loss: 0.0497 - department_output_accuracy: 0.9283 - attrition_output_accuracy: 0.9882 - 69ms/epoch - 2ms/step\n",
            "Epoch 52/100\n",
            "35/35 - 0s - loss: 0.2901 - department_output_loss: 0.2464 - attrition_output_loss: 0.0437 - department_output_accuracy: 0.9220 - attrition_output_accuracy: 0.9918 - 66ms/epoch - 2ms/step\n",
            "Epoch 53/100\n",
            "35/35 - 0s - loss: 0.2778 - department_output_loss: 0.2308 - attrition_output_loss: 0.0471 - department_output_accuracy: 0.9374 - attrition_output_accuracy: 0.9873 - 66ms/epoch - 2ms/step\n",
            "Epoch 54/100\n",
            "35/35 - 0s - loss: 0.2643 - department_output_loss: 0.2185 - attrition_output_loss: 0.0458 - department_output_accuracy: 0.9392 - attrition_output_accuracy: 0.9900 - 77ms/epoch - 2ms/step\n",
            "Epoch 55/100\n",
            "35/35 - 0s - loss: 0.2363 - department_output_loss: 0.2013 - attrition_output_loss: 0.0350 - department_output_accuracy: 0.9456 - attrition_output_accuracy: 0.9946 - 65ms/epoch - 2ms/step\n",
            "Epoch 56/100\n",
            "35/35 - 0s - loss: 0.2630 - department_output_loss: 0.2229 - attrition_output_loss: 0.0400 - department_output_accuracy: 0.9319 - attrition_output_accuracy: 0.9909 - 73ms/epoch - 2ms/step\n",
            "Epoch 57/100\n",
            "35/35 - 0s - loss: 0.2559 - department_output_loss: 0.2142 - attrition_output_loss: 0.0417 - department_output_accuracy: 0.9374 - attrition_output_accuracy: 0.9900 - 67ms/epoch - 2ms/step\n",
            "Epoch 58/100\n",
            "35/35 - 0s - loss: 0.2300 - department_output_loss: 0.1846 - attrition_output_loss: 0.0454 - department_output_accuracy: 0.9465 - attrition_output_accuracy: 0.9882 - 72ms/epoch - 2ms/step\n",
            "Epoch 59/100\n",
            "35/35 - 0s - loss: 0.2186 - department_output_loss: 0.1733 - attrition_output_loss: 0.0454 - department_output_accuracy: 0.9537 - attrition_output_accuracy: 0.9873 - 69ms/epoch - 2ms/step\n",
            "Epoch 60/100\n",
            "35/35 - 0s - loss: 0.1987 - department_output_loss: 0.1678 - attrition_output_loss: 0.0309 - department_output_accuracy: 0.9583 - attrition_output_accuracy: 0.9955 - 69ms/epoch - 2ms/step\n",
            "Epoch 61/100\n",
            "35/35 - 0s - loss: 0.1953 - department_output_loss: 0.1687 - attrition_output_loss: 0.0267 - department_output_accuracy: 0.9519 - attrition_output_accuracy: 0.9964 - 66ms/epoch - 2ms/step\n",
            "Epoch 62/100\n",
            "35/35 - 0s - loss: 0.1766 - department_output_loss: 0.1512 - attrition_output_loss: 0.0253 - department_output_accuracy: 0.9646 - attrition_output_accuracy: 0.9964 - 72ms/epoch - 2ms/step\n",
            "Epoch 63/100\n",
            "35/35 - 0s - loss: 0.1752 - department_output_loss: 0.1489 - attrition_output_loss: 0.0264 - department_output_accuracy: 0.9619 - attrition_output_accuracy: 0.9936 - 68ms/epoch - 2ms/step\n",
            "Epoch 64/100\n",
            "35/35 - 0s - loss: 0.1694 - department_output_loss: 0.1422 - attrition_output_loss: 0.0271 - department_output_accuracy: 0.9583 - attrition_output_accuracy: 0.9946 - 68ms/epoch - 2ms/step\n",
            "Epoch 65/100\n",
            "35/35 - 0s - loss: 0.1676 - department_output_loss: 0.1404 - attrition_output_loss: 0.0273 - department_output_accuracy: 0.9664 - attrition_output_accuracy: 0.9955 - 66ms/epoch - 2ms/step\n",
            "Epoch 66/100\n",
            "35/35 - 0s - loss: 0.1526 - department_output_loss: 0.1305 - attrition_output_loss: 0.0220 - department_output_accuracy: 0.9664 - attrition_output_accuracy: 0.9982 - 65ms/epoch - 2ms/step\n",
            "Epoch 67/100\n",
            "35/35 - 0s - loss: 0.1462 - department_output_loss: 0.1247 - attrition_output_loss: 0.0215 - department_output_accuracy: 0.9682 - attrition_output_accuracy: 0.9964 - 68ms/epoch - 2ms/step\n",
            "Epoch 68/100\n",
            "35/35 - 0s - loss: 0.1395 - department_output_loss: 0.1202 - attrition_output_loss: 0.0194 - department_output_accuracy: 0.9673 - attrition_output_accuracy: 0.9964 - 76ms/epoch - 2ms/step\n",
            "Epoch 69/100\n",
            "35/35 - 0s - loss: 0.1311 - department_output_loss: 0.1136 - attrition_output_loss: 0.0175 - department_output_accuracy: 0.9746 - attrition_output_accuracy: 0.9982 - 72ms/epoch - 2ms/step\n",
            "Epoch 70/100\n",
            "35/35 - 0s - loss: 0.1383 - department_output_loss: 0.1175 - attrition_output_loss: 0.0208 - department_output_accuracy: 0.9737 - attrition_output_accuracy: 0.9964 - 70ms/epoch - 2ms/step\n",
            "Epoch 71/100\n",
            "35/35 - 0s - loss: 0.1225 - department_output_loss: 0.1038 - attrition_output_loss: 0.0187 - department_output_accuracy: 0.9764 - attrition_output_accuracy: 0.9964 - 76ms/epoch - 2ms/step\n",
            "Epoch 72/100\n",
            "35/35 - 0s - loss: 0.1148 - department_output_loss: 0.0970 - attrition_output_loss: 0.0178 - department_output_accuracy: 0.9846 - attrition_output_accuracy: 0.9964 - 67ms/epoch - 2ms/step\n",
            "Epoch 73/100\n",
            "35/35 - 0s - loss: 0.1149 - department_output_loss: 0.0987 - attrition_output_loss: 0.0161 - department_output_accuracy: 0.9764 - attrition_output_accuracy: 0.9973 - 74ms/epoch - 2ms/step\n",
            "Epoch 74/100\n",
            "35/35 - 0s - loss: 0.1172 - department_output_loss: 0.0978 - attrition_output_loss: 0.0194 - department_output_accuracy: 0.9800 - attrition_output_accuracy: 0.9964 - 69ms/epoch - 2ms/step\n",
            "Epoch 75/100\n",
            "35/35 - 0s - loss: 0.1194 - department_output_loss: 0.0936 - attrition_output_loss: 0.0259 - department_output_accuracy: 0.9755 - attrition_output_accuracy: 0.9946 - 72ms/epoch - 2ms/step\n",
            "Epoch 76/100\n",
            "35/35 - 0s - loss: 0.1022 - department_output_loss: 0.0810 - attrition_output_loss: 0.0212 - department_output_accuracy: 0.9828 - attrition_output_accuracy: 0.9964 - 75ms/epoch - 2ms/step\n",
            "Epoch 77/100\n",
            "35/35 - 0s - loss: 0.0956 - department_output_loss: 0.0815 - attrition_output_loss: 0.0141 - department_output_accuracy: 0.9828 - attrition_output_accuracy: 0.9973 - 78ms/epoch - 2ms/step\n",
            "Epoch 78/100\n",
            "35/35 - 0s - loss: 0.0932 - department_output_loss: 0.0792 - attrition_output_loss: 0.0140 - department_output_accuracy: 0.9873 - attrition_output_accuracy: 0.9973 - 70ms/epoch - 2ms/step\n",
            "Epoch 79/100\n",
            "35/35 - 0s - loss: 0.0831 - department_output_loss: 0.0702 - attrition_output_loss: 0.0129 - department_output_accuracy: 0.9918 - attrition_output_accuracy: 0.9973 - 71ms/epoch - 2ms/step\n",
            "Epoch 80/100\n",
            "35/35 - 0s - loss: 0.0772 - department_output_loss: 0.0657 - attrition_output_loss: 0.0114 - department_output_accuracy: 0.9909 - attrition_output_accuracy: 0.9982 - 79ms/epoch - 2ms/step\n",
            "Epoch 81/100\n",
            "35/35 - 0s - loss: 0.0753 - department_output_loss: 0.0656 - attrition_output_loss: 0.0097 - department_output_accuracy: 0.9909 - attrition_output_accuracy: 0.9982 - 88ms/epoch - 3ms/step\n",
            "Epoch 82/100\n",
            "35/35 - 0s - loss: 0.0766 - department_output_loss: 0.0663 - attrition_output_loss: 0.0103 - department_output_accuracy: 0.9891 - attrition_output_accuracy: 0.9991 - 74ms/epoch - 2ms/step\n",
            "Epoch 83/100\n",
            "35/35 - 0s - loss: 0.0783 - department_output_loss: 0.0697 - attrition_output_loss: 0.0085 - department_output_accuracy: 0.9882 - attrition_output_accuracy: 1.0000 - 68ms/epoch - 2ms/step\n",
            "Epoch 84/100\n",
            "35/35 - 0s - loss: 0.0766 - department_output_loss: 0.0657 - attrition_output_loss: 0.0109 - department_output_accuracy: 0.9873 - attrition_output_accuracy: 0.9982 - 67ms/epoch - 2ms/step\n",
            "Epoch 85/100\n",
            "35/35 - 0s - loss: 0.0824 - department_output_loss: 0.0731 - attrition_output_loss: 0.0093 - department_output_accuracy: 0.9819 - attrition_output_accuracy: 0.9991 - 74ms/epoch - 2ms/step\n",
            "Epoch 86/100\n",
            "35/35 - 0s - loss: 0.0742 - department_output_loss: 0.0641 - attrition_output_loss: 0.0102 - department_output_accuracy: 0.9882 - attrition_output_accuracy: 0.9982 - 67ms/epoch - 2ms/step\n",
            "Epoch 87/100\n",
            "35/35 - 0s - loss: 0.0640 - department_output_loss: 0.0550 - attrition_output_loss: 0.0089 - department_output_accuracy: 0.9900 - attrition_output_accuracy: 0.9991 - 68ms/epoch - 2ms/step\n",
            "Epoch 88/100\n",
            "35/35 - 0s - loss: 0.0642 - department_output_loss: 0.0516 - attrition_output_loss: 0.0126 - department_output_accuracy: 0.9927 - attrition_output_accuracy: 0.9964 - 69ms/epoch - 2ms/step\n",
            "Epoch 89/100\n",
            "35/35 - 0s - loss: 0.0640 - department_output_loss: 0.0477 - attrition_output_loss: 0.0163 - department_output_accuracy: 0.9936 - attrition_output_accuracy: 0.9946 - 65ms/epoch - 2ms/step\n",
            "Epoch 90/100\n",
            "35/35 - 0s - loss: 0.0479 - department_output_loss: 0.0406 - attrition_output_loss: 0.0074 - department_output_accuracy: 0.9964 - attrition_output_accuracy: 0.9991 - 69ms/epoch - 2ms/step\n",
            "Epoch 91/100\n",
            "35/35 - 0s - loss: 0.0458 - department_output_loss: 0.0389 - attrition_output_loss: 0.0069 - department_output_accuracy: 0.9946 - attrition_output_accuracy: 0.9991 - 64ms/epoch - 2ms/step\n",
            "Epoch 92/100\n",
            "35/35 - 0s - loss: 0.0499 - department_output_loss: 0.0422 - attrition_output_loss: 0.0076 - department_output_accuracy: 0.9964 - attrition_output_accuracy: 0.9991 - 69ms/epoch - 2ms/step\n",
            "Epoch 93/100\n",
            "35/35 - 0s - loss: 0.0516 - department_output_loss: 0.0450 - attrition_output_loss: 0.0065 - department_output_accuracy: 0.9936 - attrition_output_accuracy: 0.9991 - 66ms/epoch - 2ms/step\n",
            "Epoch 94/100\n",
            "35/35 - 0s - loss: 0.0416 - department_output_loss: 0.0366 - attrition_output_loss: 0.0050 - department_output_accuracy: 0.9982 - attrition_output_accuracy: 1.0000 - 77ms/epoch - 2ms/step\n",
            "Epoch 95/100\n",
            "35/35 - 0s - loss: 0.0435 - department_output_loss: 0.0389 - attrition_output_loss: 0.0045 - department_output_accuracy: 0.9936 - attrition_output_accuracy: 1.0000 - 64ms/epoch - 2ms/step\n",
            "Epoch 96/100\n",
            "35/35 - 0s - loss: 0.0539 - department_output_loss: 0.0464 - attrition_output_loss: 0.0075 - department_output_accuracy: 0.9873 - attrition_output_accuracy: 0.9982 - 67ms/epoch - 2ms/step\n",
            "Epoch 97/100\n",
            "35/35 - 0s - loss: 0.0583 - department_output_loss: 0.0486 - attrition_output_loss: 0.0096 - department_output_accuracy: 0.9909 - attrition_output_accuracy: 0.9991 - 69ms/epoch - 2ms/step\n",
            "Epoch 98/100\n",
            "35/35 - 0s - loss: 0.0439 - department_output_loss: 0.0331 - attrition_output_loss: 0.0108 - department_output_accuracy: 0.9964 - attrition_output_accuracy: 0.9964 - 74ms/epoch - 2ms/step\n",
            "Epoch 99/100\n",
            "35/35 - 0s - loss: 0.0437 - department_output_loss: 0.0307 - attrition_output_loss: 0.0130 - department_output_accuracy: 0.9982 - attrition_output_accuracy: 0.9955 - 77ms/epoch - 2ms/step\n",
            "Epoch 100/100\n",
            "35/35 - 0s - loss: 0.0665 - department_output_loss: 0.0310 - attrition_output_loss: 0.0355 - department_output_accuracy: 0.9955 - attrition_output_accuracy: 0.9873 - 65ms/epoch - 2ms/step\n"
          ]
        },
        {
          "output_type": "execute_result",
          "data": {
            "text/plain": [
              "<keras.src.callbacks.History at 0x7c6b0221cca0>"
            ]
          },
          "metadata": {},
          "execution_count": 23
        }
      ],
      "source": [
        "# Train the model\n",
        "model.fit(X_train_scaled,\n",
        "          {\"department_output\": department_train_encoded, \"attrition_output\": attrition_train_encoded},\n",
        "          epochs=100,\n",
        "          verbose=2)\n"
      ]
    },
    {
      "cell_type": "code",
      "execution_count": 24,
      "metadata": {
        "colab": {
          "base_uri": "https://localhost:8080/"
        },
        "id": "VsMoaQlgGc3U",
        "outputId": "99f41f2f-5c52-4b59-bc8f-5674bf1cdf5d"
      },
      "outputs": [
        {
          "output_type": "stream",
          "name": "stdout",
          "text": [
            "12/12 [==============================] - 0s 2ms/step - loss: 4.4469 - department_output_loss: 2.6983 - attrition_output_loss: 1.7486 - department_output_accuracy: 0.5353 - attrition_output_accuracy: 0.8152\n"
          ]
        },
        {
          "output_type": "execute_result",
          "data": {
            "text/plain": [
              "[4.446944713592529,\n",
              " 2.69834041595459,\n",
              " 1.7486042976379395,\n",
              " 0.5353260636329651,\n",
              " 0.8152173757553101]"
            ]
          },
          "metadata": {},
          "execution_count": 24
        }
      ],
      "source": [
        "# Evaluate the model with the testing data\n",
        "test_results = model.evaluate(X_test_scaled,{\"department_output\": department_test_encoded, \"attrition_output\": attrition_test_encoded})\n",
        "\n",
        "test_results"
      ]
    },
    {
      "cell_type": "code",
      "execution_count": 25,
      "metadata": {
        "colab": {
          "base_uri": "https://localhost:8080/"
        },
        "id": "ZlCtlHi0Vt54",
        "outputId": "91830911-5f3f-4179-8972-05895de9904c"
      },
      "outputs": [
        {
          "output_type": "stream",
          "name": "stdout",
          "text": [
            "Department predictions accuracy: 0.5353260636329651\n",
            "Attrition predictions accuracy: 0.8152173757553101\n"
          ]
        }
      ],
      "source": [
        "# Print the accuracy for both department and attrition\n",
        "print(f\"Department predictions accuracy: {test_results[3]}\")\n",
        "print(f\"Attrition predictions accuracy: {test_results[4]}\")"
      ]
    },
    {
      "cell_type": "markdown",
      "metadata": {
        "id": "eGSyfsZfWOQM"
      },
      "source": [
        "# Summary\n",
        "\n",
        "In the provided space below, briefly answer the following questions.\n",
        "\n",
        "1. Is accuracy the best metric to use on this data? Why or why not?\n",
        "\n",
        "2. What activation functions did you choose for your output layers, and why?\n",
        "\n",
        "3. Can you name a few ways that this model might be improved?"
      ]
    },
    {
      "cell_type": "markdown",
      "metadata": {
        "id": "pi9SLpFnWvbF"
      },
      "source": [
        "YOUR ANSWERS HERE\n",
        "\n",
        "1. Accuracy doesn't appear to be the best metric, because the Department predictions accuracy is barely above 50%. This is not a reliable model for making those predictions.\n",
        "2. The activation function was chosen based on the values for each column. Department has 3 values and was a multi class column. Softmax activation was chosen for multi class. Attrition had 2 values and was a binary class column. Sigmoid activation was chosen for binary.\n",
        "3. - **Selection of Columns:** The original columns selected could be revised. Different or additional columns could be chosen based on their relevance, determined through correlations and metrics analysis.\n",
        "  - **Shared Layers:** More shared layers could be created. The current model only includes two shared layers, and adding more could enhance performance.\n",
        "  - **Hidden Layers:** Additional hidden layers could be added for both the department and attrition predictions. The current model uses only one hidden layer for each.\n",
        "  - **Branching Hidden Layers:** The hidden layers for department and attrition could be branched at different points. For instance, currently, the attrition hidden layer uses the second shared layer. Adding a third shared layer and branching the department to this new layer might improve accuracy.\n",
        "  - **Parameter Adjustments:** The parameters of the shared and hidden layers could be fine-tuned for better performance."
      ]
    },
    {
      "cell_type": "markdown",
      "metadata": {
        "id": "SiyvYv40i4Zl"
      },
      "source": []
    }
  ],
  "metadata": {
    "colab": {
      "provenance": []
    },
    "kernelspec": {
      "display_name": "Python 3",
      "language": "python",
      "name": "python3"
    },
    "language_info": {
      "codemirror_mode": {
        "name": "ipython",
        "version": 3
      },
      "file_extension": ".py",
      "mimetype": "text/x-python",
      "name": "python",
      "nbconvert_exporter": "python",
      "pygments_lexer": "ipython3",
      "version": "3.9.18"
    },
    "vscode": {
      "interpreter": {
        "hash": "31f2aee4e71d21fbe5cf8b01ff0e069b9275f58929596ceb00d14d90e3e16cd6"
      }
    }
  },
  "nbformat": 4,
  "nbformat_minor": 0
}